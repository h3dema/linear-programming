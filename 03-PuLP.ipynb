{
 "cells": [
  {
   "cell_type": "code",
   "execution_count": 1,
   "id": "8ed5d04b",
   "metadata": {},
   "outputs": [],
   "source": [
    "# Import PuLP modeler functions\n",
    "import pulp\n",
    "from pulp import LpProblem, LpMaximize\n",
    "from pulp import LpVariable, LpStatus"
   ]
  },
  {
   "cell_type": "code",
   "execution_count": 2,
   "id": "666189d8",
   "metadata": {},
   "outputs": [
    {
     "data": {
      "text/plain": [
       "'2.7.0'"
      ]
     },
     "execution_count": 2,
     "metadata": {},
     "output_type": "execute_result"
    }
   ],
   "source": [
    "pulp.__version__"
   ]
  },
  {
   "cell_type": "markdown",
   "id": "4aa12ee2",
   "metadata": {},
   "source": [
    "# PuLP\n",
    "\n",
    "PuLP é uma biblioteca Python para resolver problemas de programação linear.\n",
    "Esta biblioteca é realmente útil para escrever o modelo do problema de otimização.\n",
    "Por exemplo, ela nao tem as mesmas limitacoes que vimos para linprog() do SciPy.\n",
    "PuLP inclui um algoritmo de resolução padrão para esses problemas baseado em simplex combinado com outros algoritmos, mas permite que você use outros solucionadores (GUROBI, GLPK, CPLEX, etc.)."
   ]
  },
  {
   "cell_type": "markdown",
   "id": "8db0f53e",
   "metadata": {},
   "source": [
    "Vamos revisitar o problema que apresentamos no notebook [01-Alocacao de recursos.ipynb](https://github.com/h3dema/linear-programming/blob/main/01-Alocacao%20de%20recursos.ipynb).\n",
    "\n",
    "\n",
    "\n",
    "### Recordando\n",
    "\n",
    "O problema possui somente duas variaveis e o sistema de equações lineares é:\n",
    "\n",
    "\n",
    "\\begin{matrix}\n",
    "maximize~z = & x + 2y \\\\\n",
    "sujeito~a & 2x + y \\leq 20 \\\\\n",
    " & -4x + 5y \\leq 10 \\\\\n",
    " & -x + 2y \\ge -2 \\\\\n",
    " & -x + 5y = 15 \\\\\n",
    " & x \\ge 0 \\\\\n",
    " & y \\ge 0\n",
    "\\end{matrix}\n"
   ]
  },
  {
   "cell_type": "code",
   "execution_count": 3,
   "id": "ddff5d35",
   "metadata": {},
   "outputs": [],
   "source": [
    "# definimos o problema como de maximizacão\n",
    "prob = LpProblem(\"Problema_simples\", LpMaximize)"
   ]
  },
  {
   "cell_type": "code",
   "execution_count": 4,
   "id": "141af685",
   "metadata": {},
   "outputs": [],
   "source": [
    "# criamos as variáveis\n",
    "x = LpVariable(\"x\", lowBound=0)\n",
    "y = LpVariable(\"y\", 0)  # o segundo parametro é lowBound !"
   ]
  },
  {
   "cell_type": "code",
   "execution_count": 5,
   "id": "3e58bbf8",
   "metadata": {},
   "outputs": [],
   "source": [
    "# funcão objetivo\n",
    "prob += x + 2 * y  # nosso objetivo"
   ]
  },
  {
   "cell_type": "code",
   "execution_count": 6,
   "id": "79250c63",
   "metadata": {},
   "outputs": [],
   "source": [
    "prob += 2 * x + y <= 20  # Eq. 1"
   ]
  },
  {
   "cell_type": "code",
   "execution_count": 7,
   "id": "ca9c4017",
   "metadata": {},
   "outputs": [],
   "source": [
    "prob += -4 * x + 5 * y <= 10  # Eq. 2\n",
    "prob += -x + 2 * y >= -2  # Eq. 3\n",
    "prob += -x + 5 * y == 15  # Eq. 4"
   ]
  },
  {
   "cell_type": "markdown",
   "id": "3bc53afb",
   "metadata": {},
   "source": [
    "Note:\n",
    "1. como escrevemos o sinal de igual na Eq. 4 acima. O sinal é **==**\n",
    "2. as restricões sao adicionadas ao problema `prob` usando **+=**"
   ]
  },
  {
   "cell_type": "code",
   "execution_count": 8,
   "id": "bc21bc2f",
   "metadata": {},
   "outputs": [
    {
     "data": {
      "text/plain": [
       "[x, y]"
      ]
     },
     "execution_count": 8,
     "metadata": {},
     "output_type": "execute_result"
    }
   ],
   "source": [
    "# podemos gravar o problema em um arquivo\n",
    "prob.writeLP(\"Problema_Simples.lp\")"
   ]
  },
  {
   "cell_type": "code",
   "execution_count": 9,
   "id": "9cb77f5d",
   "metadata": {},
   "outputs": [
    {
     "name": "stdout",
     "output_type": "stream",
     "text": [
      "Welcome to the CBC MILP Solver \n",
      "Version: 2.10.3 \n",
      "Build Date: Dec 15 2019 \n",
      "\n",
      "command line - /mnt/c/Users/henri/Documents/Devel/_h3dema/linear-programming/.venv/lib/python3.10/site-packages/pulp/solverdir/cbc/linux/64/cbc /tmp/ff2d92316d024efa975f11edc3105db2-pulp.mps max timeMode elapsed branch printingOptions all solution /tmp/ff2d92316d024efa975f11edc3105db2-pulp.sol (default strategy 1)\n",
      "At line 2 NAME          MODEL\n",
      "At line 3 ROWS\n",
      "At line 9 COLUMNS\n",
      "At line 20 RHS\n",
      "At line 25 BOUNDS\n",
      "At line 26 ENDATA\n",
      "Problem MODEL has 4 rows, 2 columns and 8 elements\n",
      "Coin0008I MODEL read with 0 errors\n",
      "Option for timeMode changed from cpu to elapsed\n",
      "Presolve 0 (-4) rows, 0 (-2) columns and 0 (-8) elements\n",
      "Empty problem - 0 rows, 0 columns and 0 elements\n",
      "Optimal - objective value 16.818182\n",
      "After Postsolve, objective 16.818182, infeasibilities - dual 0 (0), primal 0 (0)\n",
      "Optimal objective 16.81818182 - 0 iterations time 0.002, Presolve 0.00\n",
      "Option for printingOptions changed from normal to all\n",
      "Total time (CPU seconds):       0.00   (Wallclock seconds):       0.09\n",
      "\n"
     ]
    },
    {
     "data": {
      "text/plain": [
       "1"
      ]
     },
     "execution_count": 9,
     "metadata": {},
     "output_type": "execute_result"
    }
   ],
   "source": [
    "# O problema é resolvido utilizando um solver selecionado por PuLP\n",
    "# já que não indicamos aquele que desejamso\n",
    "prob.solve()"
   ]
  },
  {
   "cell_type": "code",
   "execution_count": 10,
   "id": "08acb02c",
   "metadata": {},
   "outputs": [
    {
     "name": "stdout",
     "output_type": "stream",
     "text": [
      "Status: Optimal\n",
      "x = 7.7272727\n",
      "y = 4.5454545\n",
      "F.obj. =  16.8181817\n"
     ]
    }
   ],
   "source": [
    "# Podemos obter o status\n",
    "print(\"Status:\", LpStatus[prob.status])\n",
    "\n",
    "# e os valores ótimos para cada variável de decisão\n",
    "for v in prob.variables():\n",
    "    print(v.name, \"=\", v.varValue)\n",
    "    \n",
    "# e o valor final da funcão objetivo\n",
    "print(\"F.obj. = \", pulp.value(prob.objective))"
   ]
  },
  {
   "cell_type": "markdown",
   "id": "2074ff44",
   "metadata": {},
   "source": [
    "***"
   ]
  },
  {
   "cell_type": "code",
   "execution_count": 11,
   "id": "eec1da2e",
   "metadata": {
    "scrolled": false
   },
   "outputs": [
    {
     "name": "stdout",
     "output_type": "stream",
     "text": [
      "Help on class LpVariable in module pulp.pulp:\n",
      "\n",
      "class LpVariable(LpElement)\n",
      " |  LpVariable(name, lowBound=None, upBound=None, cat='Continuous', e=None)\n",
      " |  \n",
      " |  This class models an LP Variable with the specified associated parameters\n",
      " |  \n",
      " |  :param name: The name of the variable used in the output .lp file\n",
      " |  :param lowBound: The lower bound on this variable's range.\n",
      " |      Default is negative infinity\n",
      " |  :param upBound: The upper bound on this variable's range.\n",
      " |      Default is positive infinity\n",
      " |  :param cat: The category this variable is in, Integer, Binary or\n",
      " |      Continuous(default)\n",
      " |  :param e: Used for column based modelling: relates to the variable's\n",
      " |      existence in the objective function and constraints\n",
      " |  \n",
      " |  Method resolution order:\n",
      " |      LpVariable\n",
      " |      LpElement\n",
      " |      builtins.object\n",
      " |  \n",
      " |  Methods defined here:\n",
      " |  \n",
      " |  __init__(self, name, lowBound=None, upBound=None, cat='Continuous', e=None)\n",
      " |      Initialize self.  See help(type(self)) for accurate signature.\n",
      " |  \n",
      " |  __ne__(self, other)\n",
      " |      Return self!=value.\n",
      " |  \n",
      " |  addVariableToConstraints(self, e)\n",
      " |      adds a variable to the constraints indicated by\n",
      " |      the LpConstraintVars in e\n",
      " |  \n",
      " |  add_expression(self, e)\n",
      " |  \n",
      " |  asCplexLpAffineExpression(self, name, constant=1)\n",
      " |  \n",
      " |  asCplexLpVariable(self)\n",
      " |  \n",
      " |  bounds(self, low, up)\n",
      " |  \n",
      " |  fixValue(self)\n",
      " |      changes lower bound and upper bound to the initial value if exists.\n",
      " |      :return: None\n",
      " |  \n",
      " |  getLb(self)\n",
      " |  \n",
      " |  getUb(self)\n",
      " |  \n",
      " |  infeasibilityGap(self, mip=1)\n",
      " |  \n",
      " |  isBinary(self)\n",
      " |  \n",
      " |  isConstant(self)\n",
      " |  \n",
      " |  isFixed(self)\n",
      " |      :return: True if upBound and lowBound are the same\n",
      " |      :rtype: bool\n",
      " |  \n",
      " |  isFree(self)\n",
      " |  \n",
      " |  isInteger(self)\n",
      " |  \n",
      " |  isPositive(self)\n",
      " |  \n",
      " |  positive(self)\n",
      " |  \n",
      " |  round(self, epsInt=1e-05, eps=1e-07)\n",
      " |  \n",
      " |  roundedValue(self, eps=1e-05)\n",
      " |  \n",
      " |  setInitialValue(self, val, check=True)\n",
      " |      sets the initial value of the variable to `val`\n",
      " |      May be used for warmStart a solver, if supported by the solver\n",
      " |      \n",
      " |      :param float val: value to set to variable\n",
      " |      :param bool check: if True, we check if the value fits inside the variable bounds\n",
      " |      :return: True if the value was set\n",
      " |      :raises ValueError: if check=True and the value does not fit inside the bounds\n",
      " |  \n",
      " |  toDict(self)\n",
      " |      Exports a variable into a dictionary with its relevant information\n",
      " |      \n",
      " |      :return: a dictionary with the variable information\n",
      " |      :rtype: dict\n",
      " |  \n",
      " |  to_dict = toDict(self)\n",
      " |  \n",
      " |  unfixValue(self)\n",
      " |  \n",
      " |  valid(self, eps)\n",
      " |  \n",
      " |  value(self)\n",
      " |  \n",
      " |  valueOrDefault(self)\n",
      " |  \n",
      " |  ----------------------------------------------------------------------\n",
      " |  Class methods defined here:\n",
      " |  \n",
      " |  dict(name, indices, lowBound=None, upBound=None, cat='Continuous') from builtins.type\n",
      " |  \n",
      " |  dicts(name, indices=None, lowBound=None, upBound=None, cat='Continuous', indexStart=[], indexs=None) from builtins.type\n",
      " |      This function creates a dictionary of :py:class:`LpVariable` with the specified associated parameters.\n",
      " |      \n",
      " |      :param name: The prefix to the name of each LP variable created\n",
      " |      :param indices: A list of strings of the keys to the dictionary of LP\n",
      " |          variables, and the main part of the variable name itself\n",
      " |      :param lowBound: The lower bound on these variables' range. Default is\n",
      " |          negative infinity\n",
      " |      :param upBound: The upper bound on these variables' range. Default is\n",
      " |          positive infinity\n",
      " |      :param cat: The category these variables are in, Integer or\n",
      " |          Continuous(default)\n",
      " |      :param indexs: (deprecated) Replaced with `indices` parameter\n",
      " |      \n",
      " |      :return: A dictionary of :py:class:`LpVariable`\n",
      " |  \n",
      " |  fromDict(dj=None, varValue=None, **kwargs) from builtins.type\n",
      " |      Initializes a variable object from information that comes from a dictionary (kwargs)\n",
      " |      \n",
      " |      :param dj: shadow price of the variable\n",
      " |      :param float varValue: the value to set the variable\n",
      " |      :param kwargs: arguments to initialize the variable\n",
      " |      :return: a :py:class:`LpVariable`\n",
      " |      :rtype: :LpVariable\n",
      " |  \n",
      " |  from_dict = fromDict(dj=None, varValue=None, **kwargs) from builtins.type\n",
      " |      Initializes a variable object from information that comes from a dictionary (kwargs)\n",
      " |      \n",
      " |      :param dj: shadow price of the variable\n",
      " |      :param float varValue: the value to set the variable\n",
      " |      :param kwargs: arguments to initialize the variable\n",
      " |      :return: a :py:class:`LpVariable`\n",
      " |      :rtype: :LpVariable\n",
      " |  \n",
      " |  matrix(name, indices=None, lowBound=None, upBound=None, cat='Continuous', indexStart=[], indexs=None) from builtins.type\n",
      " |  \n",
      " |  ----------------------------------------------------------------------\n",
      " |  Methods inherited from LpElement:\n",
      " |  \n",
      " |  __add__(self, other)\n",
      " |  \n",
      " |  __bool__(self)\n",
      " |  \n",
      " |  __div__(self, other)\n",
      " |  \n",
      " |  __eq__(self, other)\n",
      " |      Return self==value.\n",
      " |  \n",
      " |  __ge__(self, other)\n",
      " |      Return self>=value.\n",
      " |  \n",
      " |  __hash__(self)\n",
      " |      Return hash(self).\n",
      " |  \n",
      " |  __le__(self, other)\n",
      " |      Return self<=value.\n",
      " |  \n",
      " |  __mul__(self, other)\n",
      " |  \n",
      " |  __neg__(self)\n",
      " |  \n",
      " |  __pos__(self)\n",
      " |  \n",
      " |  __radd__(self, other)\n",
      " |  \n",
      " |  __rdiv__(self, other)\n",
      " |  \n",
      " |  __repr__(self)\n",
      " |      Return repr(self).\n",
      " |  \n",
      " |  __rmul__(self, other)\n",
      " |  \n",
      " |  __rsub__(self, other)\n",
      " |  \n",
      " |  __str__(self)\n",
      " |      Return str(self).\n",
      " |  \n",
      " |  __sub__(self, other)\n",
      " |  \n",
      " |  getName(self)\n",
      " |  \n",
      " |  setName(self, name)\n",
      " |  \n",
      " |  ----------------------------------------------------------------------\n",
      " |  Data descriptors inherited from LpElement:\n",
      " |  \n",
      " |  __dict__\n",
      " |      dictionary for instance variables (if defined)\n",
      " |  \n",
      " |  __weakref__\n",
      " |      list of weak references to the object (if defined)\n",
      " |  \n",
      " |  name\n",
      " |  \n",
      " |  ----------------------------------------------------------------------\n",
      " |  Data and other attributes inherited from LpElement:\n",
      " |  \n",
      " |  expression = re.compile('[\\\\-\\\\+\\\\[\\\\]\\\\ \\\\->/]')\n",
      " |  \n",
      " |  illegal_chars = '-+[] ->/'\n",
      " |  \n",
      " |  trans = {32: 95, 43: 95, 45: 95, 47: 95, 62: 95, 91: 95, 93: 95}\n",
      "\n"
     ]
    }
   ],
   "source": [
    "help(LpVariable)"
   ]
  },
  {
   "cell_type": "code",
   "execution_count": 12,
   "id": "c9b0e3a2",
   "metadata": {
    "scrolled": true
   },
   "outputs": [
    {
     "name": "stdout",
     "output_type": "stream",
     "text": [
      "Help on method solve in module pulp.pulp:\n",
      "\n",
      "solve(solver=None, **kwargs) method of pulp.pulp.LpProblem instance\n",
      "    Solve the given Lp problem.\n",
      "    \n",
      "    This function changes the problem to make it suitable for solving\n",
      "    then calls the solver.actualSolve() method to find the solution\n",
      "    \n",
      "    :param solver:  Optional: the specific solver to be used, defaults to the\n",
      "          default solver.\n",
      "    \n",
      "    Side Effects:\n",
      "        - The attributes of the problem object are changed in\n",
      "          :meth:`~pulp.solver.LpSolver.actualSolve()` to reflect the Lp solution\n",
      "\n"
     ]
    }
   ],
   "source": [
    "help(prob.solve)"
   ]
  },
  {
   "cell_type": "code",
   "execution_count": 13,
   "id": "f62b1647",
   "metadata": {},
   "outputs": [
    {
     "data": {
      "text/plain": [
       "['GLPK_CMD', 'PULP_CBC_CMD', 'COIN_CMD']"
      ]
     },
     "execution_count": 13,
     "metadata": {},
     "output_type": "execute_result"
    }
   ],
   "source": [
    "solver_list = pulp.listSolvers(onlyAvailable=True)\n",
    "solver_list"
   ]
  },
  {
   "cell_type": "code",
   "execution_count": 14,
   "id": "0e56f19b",
   "metadata": {},
   "outputs": [
    {
     "name": "stdout",
     "output_type": "stream",
     "text": [
      "Welcome to the CBC MILP Solver \n",
      "Version: 2.10.7 \n",
      "Build Date: Feb 14 2022 \n",
      "\n",
      "command line - cbc /tmp/972c2bd2e61947c1a4add9bb445440f9-pulp.mps max mips /tmp/972c2bd2e61947c1a4add9bb445440f9-pulp.mst timeMode elapsed branch printingOptions all solution /tmp/972c2bd2e61947c1a4add9bb445440f9-pulp.sol (default strategy 1)\n",
      "At line 2 NAME          MODEL\n",
      "At line 3 ROWS\n",
      "At line 9 COLUMNS\n",
      "At line 24 RHS\n",
      "At line 29 BOUNDS\n",
      "At line 32 ENDATA\n",
      "Problem MODEL has 4 rows, 2 columns and 8 elements\n",
      "Coin0008I MODEL read with 0 errors\n",
      "opening mipstart file /tmp/972c2bd2e61947c1a4add9bb445440f9-pulp.mst.\n",
      "MIPStart values read for 2 variables.\n",
      "Option for timeMode changed from cpu to elapsed\n",
      "Continuous objective value is 16.8182 - 0.00 seconds\n",
      "Cgl0004I processed model has 0 rows, 0 columns (0 integer (0 of which binary)) and 0 elements\n",
      "Cbc3007W No integer variables - nothing to do\n",
      "Cuts at root node changed objective from -13 to -1.79769e+308\n",
      "Probing was tried 0 times and created 0 cuts of which 0 were active after adding rounds of cuts (0.000 seconds)\n",
      "Gomory was tried 0 times and created 0 cuts of which 0 were active after adding rounds of cuts (0.000 seconds)\n",
      "Knapsack was tried 0 times and created 0 cuts of which 0 were active after adding rounds of cuts (0.000 seconds)\n",
      "Clique was tried 0 times and created 0 cuts of which 0 were active after adding rounds of cuts (0.000 seconds)\n",
      "MixedIntegerRounding2 was tried 0 times and created 0 cuts of which 0 were active after adding rounds of cuts (0.000 seconds)\n",
      "FlowCover was tried 0 times and created 0 cuts of which 0 were active after adding rounds of cuts (0.000 seconds)\n",
      "TwoMirCuts was tried 0 times and created 0 cuts of which 0 were active after adding rounds of cuts (0.000 seconds)\n",
      "ZeroHalf was tried 0 times and created 0 cuts of which 0 were active after adding rounds of cuts (0.000 seconds)\n",
      "\n",
      "Result - Optimal solution found\n",
      "\n",
      "Objective value:                13.00000000\n",
      "Enumerated nodes:               0\n",
      "Total iterations:               1\n",
      "Time (CPU seconds):             0.00\n",
      "Time (Wallclock seconds):       0.00\n",
      "\n",
      "Option for printingOptions changed from normal to all\n",
      "Total time (CPU seconds):       0.00   (Wallclock seconds):       0.00\n",
      "\n"
     ]
    },
    {
     "data": {
      "text/plain": [
       "1"
      ]
     },
     "execution_count": 14,
     "metadata": {},
     "output_type": "execute_result"
    }
   ],
   "source": [
    "# problema de maximizacão\n",
    "prob = LpProblem(\"Problema_simples\", LpMaximize)\n",
    "\n",
    "# criamos as variáveis\n",
    "x = LpVariable(\"x\", lowBound=0, cat=\"Integer\")  # <---- agora é inteiro\n",
    "y = LpVariable(\"y\", lowBound=0, cat=\"Integer\")  # <---- agora é inteiro\n",
    "\n",
    "# funcão objetivo\n",
    "prob += x + 2 * y  # nosso objetivo\n",
    "prob += 2 * x + y <= 20  # Eq. 1\n",
    "prob += -4 * x + 5 * y <= 10  # Eq. 2\n",
    "prob += -x + 2 * y >= -2  # Eq. 3\n",
    "prob += -x + 5 * y == 15  # Eq. 4\n",
    "\n",
    "# vamos definir também um solver\n",
    "solver = pulp.COIN_CMD(msg=True, warmStart=True)\n",
    "prob.solve(solver=solver)"
   ]
  },
  {
   "cell_type": "code",
   "execution_count": 15,
   "id": "2be09759",
   "metadata": {},
   "outputs": [
    {
     "name": "stdout",
     "output_type": "stream",
     "text": [
      "Status: Optimal\n",
      "x = 5.0\n",
      "y = 4.0\n",
      "F.obj. =  13.0\n"
     ]
    }
   ],
   "source": [
    "# Podemos obter o status\n",
    "print(\"Status:\", LpStatus[prob.status])\n",
    "\n",
    "# e os valores ótimos para cada variável de decisão\n",
    "for v in prob.variables():\n",
    "    print(v.name, \"=\", v.varValue)\n",
    "    \n",
    "# e o valor final da funcão objetivo\n",
    "print(\"F.obj. = \", pulp.value(prob.objective))"
   ]
  },
  {
   "cell_type": "code",
   "execution_count": null,
   "id": "4f1de070",
   "metadata": {},
   "outputs": [],
   "source": []
  }
 ],
 "metadata": {
  "kernelspec": {
   "display_name": "Python 3 (ipykernel)",
   "language": "python",
   "name": "python3"
  },
  "language_info": {
   "codemirror_mode": {
    "name": "ipython",
    "version": 3
   },
   "file_extension": ".py",
   "mimetype": "text/x-python",
   "name": "python",
   "nbconvert_exporter": "python",
   "pygments_lexer": "ipython3",
   "version": "3.10.6"
  }
 },
 "nbformat": 4,
 "nbformat_minor": 5
}
