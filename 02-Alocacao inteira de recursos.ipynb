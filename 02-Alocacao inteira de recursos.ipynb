{
 "cells": [
  {
   "cell_type": "code",
   "execution_count": 1,
   "id": "8ed5d04b",
   "metadata": {},
   "outputs": [],
   "source": [
    "import scipy\n",
    "from scipy.optimize import linprog"
   ]
  },
  {
   "cell_type": "code",
   "execution_count": 2,
   "id": "f0622b7a",
   "metadata": {},
   "outputs": [
    {
     "data": {
      "text/plain": [
       "'1.10.1'"
      ]
     },
     "execution_count": 2,
     "metadata": {},
     "output_type": "execute_result"
    }
   ],
   "source": [
    "scipy.__version__"
   ]
  },
  {
   "cell_type": "markdown",
   "id": "4aa12ee2",
   "metadata": {},
   "source": [
    "# Programação linear inteira (PLI)\n",
    "\n",
    "Um Problema de programação inteira é um modelo de programação linear no qual algumas ou todas as variáveis do problema pertencem ao conjunto dos números inteiros.\n",
    "Quando todas as variáveis são inteiras, o modelo é denominado programação inteira pura.\n",
    "Caso contrário, ele é denominado programação inteira mista (veja [MILP](https://en.wikipedia.org/wiki/Integer_programming) no Wikipedia).\n",
    "\n",
    "A solução de um PLI é muito mais complexa que a programação linear onde os valores das variáveis de decisão são números reais, pois (intuitivamente) o fato de ter que ser um inteiro coloca muito mais restrição nas soluções possíveis. Este é um dos famosos [problema NP-difíceis](https://pt.wikipedia.org/wiki/NP-dif%C3%ADcil)."
   ]
  },
  {
   "cell_type": "markdown",
   "id": "8db0f53e",
   "metadata": {},
   "source": [
    "Para ver como resolver este problema com **linprog()**, vamos revisitar o problema que apresentamos no notebook [01-Alocacao de recursos.ipynb](https://github.com/h3dema/linear-programming/blob/main/01-Alocacao%20de%20recursos.ipynb).\n",
    "\n",
    "\n",
    "\n",
    "### Recordando\n",
    "\n",
    "O problema possui somente duas variaveis e o sistema de equações lineares é:\n",
    "\n",
    "\n",
    "\\begin{matrix}\n",
    "maximize~z = & x + 2y \\\\\n",
    "sujeito~a & 2x + y \\leq 20 \\\\\n",
    " & -4x + 5y \\leq 10 \\\\\n",
    " & -x + 2y \\ge -2 \\\\\n",
    " & -x + 5y = 15 \\\\\n",
    " & x \\ge 0 \\\\\n",
    " & y \\ge 0\n",
    "\\end{matrix}\n"
   ]
  },
  {
   "cell_type": "code",
   "execution_count": 3,
   "id": "0a1f54c8",
   "metadata": {},
   "outputs": [],
   "source": [
    "c = [-1, -2]\n",
    "#      ─┬  ─┬\n",
    "#       │   └┤ coeficiente de y\n",
    "#       └────┤ coeficiente de  x\n",
    "\n",
    "# Para as inequações:\n",
    "A_ub = [[ 2,  1],  # coeficientes da restrição Eq.2 (lado esquerdo)\n",
    "        [-4,  5],  # coeficientes da restrição Eq.2 (lado esquerdo)\n",
    "        [ 1, -2]]  # coeficientes da restrição Eq.2 (lado esquerdo)\n",
    "\n",
    "b_ub = [20,  # constante da restrição Eq.2 (lado direito)\n",
    "        10,  # constante da restrição Eq.3 (lado direito)\n",
    "        2]   # constante da restrição Eq.4 (lado direito)\n",
    "\n",
    "# Para a equação (só Eq. 5)\n",
    "A_eq = [[-1, 5]]  # Green constraint left side\n",
    "b_eq = [15]       # Green constraint right side\n",
    "\n",
    "bounds = [(0, float(\"inf\")),  # Bounds of x\n",
    "          (0, float(\"inf\"))]  # Bounds of y"
   ]
  },
  {
   "cell_type": "code",
   "execution_count": 4,
   "id": "b28b613a",
   "metadata": {},
   "outputs": [
    {
     "data": {
      "text/plain": [
       "array([7.72727273, 4.54545455])"
      ]
     },
     "execution_count": 4,
     "metadata": {},
     "output_type": "execute_result"
    }
   ],
   "source": [
    "opt = linprog(c=c, A_ub=A_ub, b_ub=b_ub, A_eq=A_eq, b_eq=b_eq, bounds=bounds, method=\"highs\")\n",
    "opt.x"
   ]
  },
  {
   "cell_type": "markdown",
   "id": "fc2ed435",
   "metadata": {},
   "source": [
    "**Note**: Os valores retornados são números reais.\n",
    "\n",
    "Se desejamos que seja estes valores sejam inteiros, por exemplo, porque este problema refere-se a produção de unidades de produtos e não vendemos um produto parcialmente construido, basta informar ao **linprog()** utilizando o parâmetro __integrality__. Contudo está opção só está disponíveis em versões novas (1.10+)."
   ]
  },
  {
   "cell_type": "code",
   "execution_count": 5,
   "id": "e5560cf7",
   "metadata": {
    "scrolled": true
   },
   "outputs": [
    {
     "data": {
      "text/plain": [
       "array([5., 4.])"
      ]
     },
     "execution_count": 5,
     "metadata": {},
     "output_type": "execute_result"
    }
   ],
   "source": [
    "opt = linprog(c=c, A_ub=A_ub, b_ub=b_ub, A_eq=A_eq, b_eq=b_eq, bounds=bounds, method=\"highs\", integrality=1)\n",
    "opt.x"
   ]
  },
  {
   "cell_type": "markdown",
   "id": "2ac2aef7",
   "metadata": {},
   "source": [
    "Podemos ainda indicar explicitamente qual variavel é inteira"
   ]
  },
  {
   "cell_type": "code",
   "execution_count": 6,
   "id": "a8266985",
   "metadata": {
    "scrolled": true
   },
   "outputs": [
    {
     "data": {
      "text/plain": [
       "array([7. , 4.4])"
      ]
     },
     "execution_count": 6,
     "metadata": {},
     "output_type": "execute_result"
    }
   ],
   "source": [
    "intvars = [1, 0]  # só a variável \"x\" precisa ser inteira\n",
    "\n",
    "opt = linprog(c=c, A_ub=A_ub, b_ub=b_ub, A_eq=A_eq, b_eq=b_eq, bounds=bounds, method=\"highs\", integrality=intvars)\n",
    "opt.x"
   ]
  },
  {
   "cell_type": "code",
   "execution_count": 7,
   "id": "74694a74",
   "metadata": {},
   "outputs": [
    {
     "data": {
      "text/plain": [
       "array([5., 4.])"
      ]
     },
     "execution_count": 7,
     "metadata": {},
     "output_type": "execute_result"
    }
   ],
   "source": [
    "intvars = [0, 1]  # só a variável \"y\" precisa ser inteira\n",
    "\n",
    "opt = linprog(c=c, A_ub=A_ub, b_ub=b_ub, A_eq=A_eq, b_eq=b_eq, bounds=bounds, method=\"highs\", integrality=intvars)\n",
    "opt.x"
   ]
  }
 ],
 "metadata": {
  "kernelspec": {
   "display_name": "Python 3 (ipykernel)",
   "language": "python",
   "name": "python3"
  },
  "language_info": {
   "codemirror_mode": {
    "name": "ipython",
    "version": 3
   },
   "file_extension": ".py",
   "mimetype": "text/x-python",
   "name": "python",
   "nbconvert_exporter": "python",
   "pygments_lexer": "ipython3",
   "version": "3.8.10"
  }
 },
 "nbformat": 4,
 "nbformat_minor": 5
}
