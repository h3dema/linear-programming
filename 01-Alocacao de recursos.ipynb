{
 "cells": [
  {
   "cell_type": "markdown",
   "id": "8db0f53e",
   "metadata": {},
   "source": [
    "# Problema simples com duas variaveis\n",
    "\n",
    "\n",
    "\n",
    "\\begin{matrix}\n",
    "maximize~z = & x + 2y \\\\\n",
    "sujeito~a & 2x + y \\leq 20 \\\\\n",
    " & -4x + 5y \\leq 10 \\\\\n",
    " & -x + 2y \\ge -2 \\\\\n",
    " & -x + 5y = 15 \\\\\n",
    " & x \\ge 0 \\\\\n",
    " & y \\ge 0\n",
    "\\end{matrix}\n",
    "\n",
    "Vamos utilizar um pacote cientifico para Python para resolver o problema de programação linear descrito acima. Usaremos SciPy é um pacote de uso geral para computação científica com Python que fornecer uma funcao denominada linprog() para resolver este tipo de problema. Contudo linprog() lida apenas problemas de minimização (não de maximização) e não permite restrições de desigualdade com sinal de maior ou igual a (≥). Para contornar esses problemas, você precisa modificar seu problema antes de iniciar a otimização:\n",
    "\n",
    "- Em vez de maximizar $z = x + 2y$, você pode minimizar seu negativo $(−z = −x − 2y)$.\n",
    "- Em vez de ter o sinal de maior ou igual, você pode multiplicar a desigualdade amarela por -1 e obter o sinal oposto de menor ou igual ($\\leq$).\n",
    "\n",
    "Existem outras opcoes como PuLP, ...\n",
    "\n",
    "Uma boa opcao para conhecer mais sobre programacao linear e [Brilliant](https://brilliant.org/wiki/linear-programming/)."
   ]
  },
  {
   "cell_type": "code",
   "execution_count": 7,
   "id": "8ed5d04b",
   "metadata": {},
   "outputs": [],
   "source": [
    "from scipy.optimize import linprog\n",
    "import matplotlib.pyplot as plt"
   ]
  },
  {
   "cell_type": "markdown",
   "id": "18831d08",
   "metadata": {},
   "source": [
    "### Definicoes\n",
    "\n",
    "- obj contém os coeficientes da função objetivo.\n",
    "- lhs_ineq contém os coeficientes do lado esquerdo das restrições de desigualdade (vermelho, azul e amarelo).\n",
    "- rhs_ineq contém os coeficientes do lado direito das restrições de desigualdade (vermelho, azul e amarelo).\n",
    "- lhs_eq contém os coeficientes do lado esquerdo da restrição de igualdade (verde).\n",
    "- rhs_eq contém os coeficientes do lado direito da restrição de igualdade (verde)."
   ]
  },
  {
   "cell_type": "code",
   "execution_count": 2,
   "id": "0a1f54c8",
   "metadata": {},
   "outputs": [],
   "source": [
    "obj = [-1, -2]\n",
    "#      ─┬  ─┬\n",
    "#       │   └┤ Coefficient for y\n",
    "#       └────┤ Coefficient for x\n",
    "\n",
    "lhs_ineq = [[ 2,  1],  # Red constraint left side\n",
    "            [-4,  5],  # Blue constraint left side\n",
    "            [ 1, -2]]  # Yellow constraint left side\n",
    "\n",
    "rhs_ineq = [20,  # Red constraint right side\n",
    "            10,  # Blue constraint right side\n",
    "             2]  # Yellow constraint right side\n",
    "\n",
    "lhs_eq = [[-1, 5]]  # Green constraint left side\n",
    "rhs_eq = [15]       # Green constraint right side"
   ]
  },
  {
   "cell_type": "code",
   "execution_count": 3,
   "id": "cdfff36f",
   "metadata": {},
   "outputs": [],
   "source": [
    "bnd = [(0, float(\"inf\")),  # Bounds of x\n",
    "       (0, float(\"inf\"))]  # Bounds of y"
   ]
  },
  {
   "cell_type": "code",
   "execution_count": 4,
   "id": "b28b613a",
   "metadata": {},
   "outputs": [
    {
     "name": "stderr",
     "output_type": "stream",
     "text": [
      "/tmp/ipykernel_8711/1994729893.py:1: DeprecationWarning: `method='revised simplex'` is deprecated and will be removed in SciPy 1.11.0. Please use one of the HiGHS solvers (e.g. `method='highs'`) in new code.\n",
      "  opt = linprog(c=obj, A_ub=lhs_ineq, b_ub=rhs_ineq,\n"
     ]
    }
   ],
   "source": [
    "opt = linprog(c=obj, A_ub=lhs_ineq, b_ub=rhs_ineq,\n",
    "              A_eq=lhs_eq, b_eq=rhs_eq, bounds=bnd,\n",
    "              method=\"revised simplex\")"
   ]
  },
  {
   "cell_type": "markdown",
   "id": "8573bf7c",
   "metadata": {},
   "source": [
    "O parâmetro **c** refere-se aos coeficientes da função objetivo.\n",
    "**A_ub** e **b_ub** são relacionados aos coeficientes dos lados esquerdo e direito das restrições de desigualdade, respectivamente. \n",
    "Da mesma forma, **A_eq** e **b_eq** referem-se a restrições de igualdade. \n",
    "\n",
    "Você pode usar limites **bounds** para fornecer os limites inferior e superior nas variáveis de decisão."
   ]
  },
  {
   "cell_type": "code",
   "execution_count": 5,
   "id": "66d57f96",
   "metadata": {
    "scrolled": true
   },
   "outputs": [
    {
     "data": {
      "text/plain": [
       " message: Optimization terminated successfully.\n",
       " success: True\n",
       "  status: 0\n",
       "     fun: -16.818181818181817\n",
       "       x: [ 7.727e+00  4.545e+00]\n",
       "     nit: 3"
      ]
     },
     "execution_count": 5,
     "metadata": {},
     "output_type": "execute_result"
    }
   ],
   "source": [
    "opt"
   ]
  },
  {
   "cell_type": "markdown",
   "id": "b1c5e688",
   "metadata": {},
   "source": [
    ".message é o status da solução.\n",
    "\n",
    ".success é um Booleano que mostra se a solução ótima foi encontrada.\n",
    "\n",
    ".status é um número inteiro entre 0 e 4 que mostra o status da solução, como 0 para quando a solução ideal foi encontrada.\n",
    "\n",
    ".fun é o valor da função objetivo no ótimo (se encontrado).\n",
    "\n",
    ".x é uma matriz NumPy contendo os valores ideais das variáveis de decisão.\n",
    "\n",
    "\n",
    ".nit é o número de iterações necessárias para concluir o cálculo."
   ]
  },
  {
   "cell_type": "code",
   "execution_count": 6,
   "id": "7fceefa4",
   "metadata": {},
   "outputs": [
    {
     "name": "stdout",
     "output_type": "stream",
     "text": [
      "-16.818181818181817\n",
      "True\n",
      "[7.72727273 4.54545455]\n"
     ]
    }
   ],
   "source": [
    "print(opt.fun)\n",
    "print(opt.success)\n",
    "print(opt.x)"
   ]
  },
  {
   "cell_type": "code",
   "execution_count": 25,
   "id": "ebb31f32",
   "metadata": {},
   "outputs": [
    {
     "data": {
      "image/png": "[encoded data removed]",
      "text/plain": [
       "<Figure size 500x500 with 1 Axes>"
      ]
     },
     "metadata": {},
     "output_type": "display_data"
    }
   ],
   "source": [
    "fig, ax = plt.subplots(figsize=(5, 5))\n",
    "\n",
    "f2 = lambda x: 20 - 2 * x\n",
    "f3 = lambda x: (10 + 4 * x) / 5\n",
    "f4 = lambda x: (x - 2) / 2\n",
    "f5 = lambda x: (15 + x) / 5\n",
    "\n",
    "# Eq.2\n",
    "plt.fill([0, 100, 100, 0],[f2(0), f2(100), 100, 100], 'red', alpha=0.2)\n",
    "plt.text(8, 6, \"$2x + y > 20$\", fontsize=16)\n",
    "\n",
    "# Eq.3\n",
    "plt.fill([0, 100, 100, 0],[f3(0), f3(100), 100, 100], 'blue', alpha=0.2)\n",
    "plt.text(2, 8, \"$-4x + 5y > 10$\", fontsize=16)\n",
    "\n",
    "# Eq. 4\n",
    "plt.fill([2, 100, 100, 2],[f4(2), f4(2), f4(100), f4(2)], 'yellow', alpha=0.2)\n",
    "plt.text(6, 0.5, \"$-x + 2y \\geq -2$\", fontsize=16)\n",
    "\n",
    "# Eq. 5\n",
    "plt.plot([0, 100], [f5(0), f5(100)], color=\"green\")\n",
    "\n",
    "\n",
    "# solucao\n",
    "plt.plot([opt.x[0]], [opt.x[1]], marker=\"o\")\n",
    "\n",
    "plt.xlabel(\"$x_1$\", fontsize=16)\n",
    "plt.ylabel(\"$x_2$\", fontsize=16)\n",
    "plt.xlim(0, 10)\n",
    "plt.ylim(0, 10)\n",
    "plt.show()"
   ]
  },
  {
   "cell_type": "markdown",
   "id": "9e43722b",
   "metadata": {},
   "source": [
    "A solucao consiste nos pontos na reta em verde dentro da area branca.\n",
    "\n",
    "A solucao encontrada por linprog() esta indicada pelo pequeno disco na reta."
   ]
  },
  {
   "cell_type": "code",
   "execution_count": null,
   "id": "95ad71c2",
   "metadata": {},
   "outputs": [],
   "source": []
  },
  {
   "cell_type": "markdown",
   "id": "3fc1e8d2",
   "metadata": {},
   "source": [
    "# Problema de Alocação de Recursos\n",
    "\n",
    "Vamos ver aqui um problema de otimização mais concreto e prático relacionado à alocação de recursos na manufatura.\n",
    "Digamos que uma fábrica produza quatro produtos diferentes e que a quantidade produzida diariamente do primeiro produto seja x₁, a quantidade produzida do segundo produto seja x₂ e assim por diante. O objetivo é determinar a quantidade de produção diária maximizadora de lucro para cada produto, tendo em mente as seguintes condições:\n",
    "\n",
    "- O lucro por unidade de produto é \\\\\\$ 20, \\\\\\$ 12, \\\\\\$ 40 e \\\\\\$ 25 para o primeiro, segundo, terceiro e quarto produto, respectivamente.\n",
    "\n",
    "- Devido a restrições de mão de obra, o número total de unidades produzidas por dia não pode exceder cinquenta.\n",
    "\n",
    "- Para cada unidade do primeiro produto, são consumidas três unidades da matéria-prima A. Cada unidade do segundo produto requer duas unidades da matéria-prima A e uma unidade da matéria-prima B. Cada unidade do terceiro produto requer uma unidade de A e duas unidades de B. Finalmente, cada unidade do quarto produto requer três unidades de b.\n",
    "\n",
    "- Devido às restrições de transporte e armazenamento, a fábrica pode consumir até cem unidades da matéria-prima A e noventa unidades da matéria-prima B por dia.\n",
    "\n",
    "O modelo matemático pode ser definido assim:\n",
    "\n",
    "\\begin{matrix}\n",
    "maximize & 20x_1 + 12x_2 + 40x_3 + 25x_4 & (lucro) \\\\\n",
    "sujeito~a & x_1 + x_2 + x_3 + x_4 \\leq 50 & (mão ~de ~obra) \\\\\n",
    " & 3x_1 + 2x_2 + x_3 \\leq 100 & (material ~A) \\\\\n",
    " & x_2 + 2x_3 + 3x_4 \\leq 90 & (material ~B)\\\\\n",
    " & x_1, x_2, x_3, x_4 \\ge 0\n",
    "\\end{matrix}\n",
    "\n",
    "A função objetivo (lucro) é definida na condição 1. A restrição de mão de obra decorre da condição 2. As restrições sobre as matérias-primas A e B podem ser derivadas das condições 3 e 4 somando as necessidades de matéria-prima para cada produto.\n",
    "\n",
    "Finalmente, os valores dos produtos não podem ser negativos, então todas as variáveis de decisão devem ser maiores ou iguais a zero.\n",
    "\n",
    "Ao contrário do exemplo anterior, você não pode visualizar convenientemente este porque possui quatro variáveis de decisão. No entanto, os princípios permanecem os mesmos independentemente da dimensionalidade do problema.\n",
    "\n"
   ]
  },
  {
   "cell_type": "code",
   "execution_count": 26,
   "id": "12bf0dff",
   "metadata": {},
   "outputs": [
    {
     "name": "stderr",
     "output_type": "stream",
     "text": [
      "/tmp/ipykernel_8711/2302340084.py:11: DeprecationWarning: `method='revised simplex'` is deprecated and will be removed in SciPy 1.11.0. Please use one of the HiGHS solvers (e.g. `method='highs'`) in new code.\n",
      "  opt = linprog(c=obj, A_ub=lhs_ineq, b_ub=rhs_ineq,\n"
     ]
    },
    {
     "data": {
      "text/plain": [
       " message: Optimization terminated successfully.\n",
       " success: True\n",
       "  status: 0\n",
       "     fun: -1900.0\n",
       "       x: [ 5.000e+00  0.000e+00  4.500e+01  0.000e+00]\n",
       "     nit: 2"
      ]
     },
     "execution_count": 26,
     "metadata": {},
     "output_type": "execute_result"
    }
   ],
   "source": [
    "obj = [-20, -12, -40, -25]\n",
    "\n",
    "lhs_ineq = [[1, 1, 1, 1],  # mao de obra\n",
    "            [3, 2, 1, 0],  # Material A\n",
    "            [0, 1, 2, 3]]  # Material B\n",
    "\n",
    "rhs_ineq = [ 50,  # Manpower\n",
    "            100,  # Material A\n",
    "             90]  # Material B\n",
    "\n",
    "opt = linprog(c=obj, A_ub=lhs_ineq, b_ub=rhs_ineq,\n",
    "              method=\"revised simplex\")\n",
    "opt"
   ]
  },
  {
   "cell_type": "markdown",
   "id": "211a4464",
   "metadata": {},
   "source": [
    "note que nao indicamos (nao foi preciso) os limites para as variaveis"
   ]
  },
  {
   "cell_type": "code",
   "execution_count": 27,
   "id": "24082a9b",
   "metadata": {},
   "outputs": [],
   "source": [
    "# Bounds\n",
    "bnd = [(0, float(\"inf\")),\n",
    "       (0, float(\"inf\")),\n",
    "       (0, float(\"inf\")),\n",
    "       (0, float(\"inf\")),\n",
    "      ]  "
   ]
  },
  {
   "cell_type": "code",
   "execution_count": 30,
   "id": "79d7b228",
   "metadata": {
    "scrolled": true
   },
   "outputs": [
    {
     "data": {
      "text/plain": [
       "        message: Optimization terminated successfully. (HiGHS Status 7: Optimal)\n",
       "        success: True\n",
       "         status: 0\n",
       "            fun: -1900.0\n",
       "              x: [ 5.000e+00  0.000e+00  4.500e+01  0.000e+00]\n",
       "            nit: 4\n",
       "          lower:  residual: [ 5.000e+00  0.000e+00  4.500e+01  0.000e+00]\n",
       "                 marginals: [ 0.000e+00  1.800e+01  0.000e+00  2.500e+01]\n",
       "          upper:  residual: [       inf        inf        inf        inf]\n",
       "                 marginals: [ 0.000e+00  0.000e+00  0.000e+00  0.000e+00]\n",
       "          eqlin:  residual: []\n",
       "                 marginals: []\n",
       "        ineqlin:  residual: [ 0.000e+00  4.000e+01  0.000e+00]\n",
       "                 marginals: [-2.000e+01 -0.000e+00 -1.000e+01]\n",
       " mip_node_count: 0\n",
       " mip_dual_bound: 0.0\n",
       "        mip_gap: 0.0"
      ]
     },
     "execution_count": 30,
     "metadata": {},
     "output_type": "execute_result"
    }
   ],
   "source": [
    "# https://docs.scipy.org/doc/scipy/reference/optimize.linprog-highs.html\n",
    "\n",
    "opt = linprog(c=obj, A_ub=lhs_ineq, b_ub=rhs_ineq, bounds=bnd,\n",
    "              method=\"highs\")\n",
    "opt"
   ]
  },
  {
   "cell_type": "code",
   "execution_count": 32,
   "id": "113d7eb0",
   "metadata": {},
   "outputs": [
    {
     "data": {
      "text/plain": [
       "array([ 5.,  0., 45.,  0.])"
      ]
     },
     "execution_count": 32,
     "metadata": {},
     "output_type": "execute_result"
    }
   ],
   "source": [
    "opt.x"
   ]
  },
  {
   "cell_type": "code",
   "execution_count": 31,
   "id": "e5560cf7",
   "metadata": {
    "scrolled": true
   },
   "outputs": [
    {
     "data": {
      "text/plain": [
       "array([ 0., 40.,  0.])"
      ]
     },
     "execution_count": 31,
     "metadata": {},
     "output_type": "execute_result"
    }
   ],
   "source": [
    "opt.slack"
   ]
  },
  {
   "cell_type": "markdown",
   "id": "7c0634ba",
   "metadata": {},
   "source": [
    "Comentarios:\n",
    "\n",
    "- O terceiro produto traz o maior lucro por unidade, então a fábrica produzirá mais.\n",
    "\n",
    "- A primeira folga é 0, o que significa que os valores dos lados esquerdo e direito da restrição de mão de obra (primeira) são os mesmos. A fábrica produz 50 unidades por dia, e essa é sua capacidade total.\n",
    "\n",
    "- A segunda folga é 40 porque a fábrica consome 60 unidades da matéria-prima A (15 unidades para o primeiro produto mais 45 para o terceiro) de um potencial de 100 unidades.\n",
    "\n",
    "- A terceira folga é 0, o que significa que a fábrica consome todas as 90 unidades da matéria-prima B. Toda essa quantidade é consumida para o terceiro produto. É por isso que a fábrica não pode produzir o segundo ou quarto produto e não pode produzir mais de 45 unidades do terceiro produto. Falta a matéria-prima B."
   ]
  }
 ],
 "metadata": {
  "kernelspec": {
   "display_name": "Python 3 (ipykernel)",
   "language": "python",
   "name": "python3"
  },
  "language_info": {
   "codemirror_mode": {
    "name": "ipython",
    "version": 3
   },
   "file_extension": ".py",
   "mimetype": "text/x-python",
   "name": "python",
   "nbconvert_exporter": "python",
   "pygments_lexer": "ipython3",
   "version": "3.8.10"
  }
 },
 "nbformat": 4,
 "nbformat_minor": 5
}
